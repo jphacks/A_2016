{
  "nbformat": 4,
  "nbformat_minor": 0,
  "metadata": {
    "kernelspec": {
      "display_name": "Python 3",
      "language": "python",
      "name": "python3"
    },
    "language_info": {
      "codemirror_mode": {
        "name": "ipython",
        "version": 3
      },
      "file_extension": ".py",
      "mimetype": "text/x-python",
      "name": "python",
      "nbconvert_exporter": "python",
      "pygments_lexer": "ipython3",
      "version": "3.6.10"
    },
    "colab": {
      "name": "2020-05-19-Getting_Started_with_QA.ipynb のコピー のコピー",
      "provenance": [],
      "machine_shape": "hm"
    },
    "accelerator": "GPU"
  },
  "cells": [
    {
      "cell_type": "markdown",
      "metadata": {
        "id": "4oDa_k-bJ8OW"
      },
      "source": [
        "# Building a QA System with BERT on Wikipedia\n",
        "> A high-level code walk-through of an IR-based QA system with PyTorch and Hugging Face.\n",
        "\n",
        "- toc: true \n",
        "- badges: true\n",
        "- comments: true\n",
        "- categories: [PyTorch, Hugging Face, Wikipedia, BERT, Transformers]"
      ]
    },
    {
      "cell_type": "markdown",
      "metadata": {
        "id": "Wn_8e_uVJ8OY"
      },
      "source": [
        "![](my_icons/markus-spiske-C0koz3G1I4I-unsplash.jpg \"Image by Markus Spiske at Unsplash.com\")\n",
        "\n",
        "# So you've decided to build a QA system \n",
        "\n",
        "You want to start with something simple and general, so you plan to make it open domain, using Wikipedia as a corpus for answering questions. You want to use the best NLP that your compute resources allow (you're lucky enough to have access to a GPU), so you're going to focus on the big, flashy Transformer models that are all the rage these days.\n",
        "\n",
        "Sounds like you're building an IR-based QA system. In our previous post ([Intro to Automated Question Answering](https://qa.fastforwardlabs.com/methods/background/2020/04/28/Intro-to-QA.html)), we covered the general design of these systems, which typically require two main components: the document _retriever_ (a search engine) that selects the n most relevant documents from a large collection, and a document _reader_ that processes these candidate documents in search of an explicit answer span. \n",
        "\n",
        "![](my_icons/QAworkflow.png \"IR-based automated question answering workflow\")\n",
        "\n",
        "\n",
        "Now we're going to build it! \n",
        "\n",
        "This post is chock full of code that walks through our approach. We'll also highlight and clarify some powerful resources (including off-the-shelf models and libraries) that you can use to quickly get going on a QA system of your own. We'll cover all the necessary steps including:\n",
        "* installing libraries and setting up an environment,\n",
        "* training a Transformer style model on the SQuAD dataset,\n",
        "* understanding Hugging Face's run_squad.py training script and output,\n",
        "* and passing a full Wikipedia article as context for a question.\n",
        "\n",
        "\n",
        "By the end of this post we'll have a working IR-based QA system, with BERT as the document reader and Wikipedia's search engine as the document retriever - a fun toy model that hints at potential real-world use cases.\n",
        "\n",
        "This article was originally developed in a Jupyter Notebook and, thanks to [fastpages](https://fastpages.fast.ai/), converted to a blog post. For an interactive environment, click the \"Open in Colab\" button above (though we note that, due to Colab's system constraints, some of the cells in this notebook might not be fully executable. We'll highlight when this is the case, but don't worry -- you'll still be able to play around with all the fun stuff.)\n",
        "\n",
        "Let's get started!\n",
        "\n",
        "\n",
        "# Setting up your virtual environment\n",
        "A virtual environment is always best practice and we're using `venv` on our workhorse machine. For this project, we'll be using PyTorch, which handles the heavy lifting of deep differentiable learning. If you have a GPU you'll want a PyTorch build that includes CUDA support, though most cells in this notebook will work fine without one. Check out [PyTorch's quick install guide](https://pytorch.org/) to determine the best build for your GPU and OS. We'll also be using the [Transformers](https://huggingface.co/transformers/index.html) library, which provides easy-to-use implementations of all the popular Transformer architectures, like BERT. Finally, we'll need the [wikipedia](https://pypi.org/project/wikipedia/) library for easy access and parsing of Wikipedia pages."
      ]
    },
    {
      "cell_type": "markdown",
      "metadata": {
        "id": "bIzrwiO-J8OY"
      },
      "source": [
        "You can recreate our env (with CUDA 9.2 support -- but use the appropriate version for your machine) with the following commands in your command line:\n",
        "\n",
        "\n",
        "``` bash\n",
        "$ python3 -m venv myenv\n",
        "$ source myenv/bin/activate\n",
        "$ pip install torch==1.5.0+cu92 torchvision==0.6.0+cu92 -f https://download.pytorch.org/whl/torch_stable.html\n",
        "$ pip install transformers==2.5.1\n",
        "$ pip install wikipedia==1.4.0\n",
        "```\n"
      ]
    },
    {
      "cell_type": "markdown",
      "metadata": {
        "id": "lEZzdtFqJ8OZ"
      },
      "source": [
        "Note: Our GPU machine sports an older version of CUDA (9.2 -- we're getting around to updating that), so we need to use an older version of PyTorch for the necessary CUDA support.  The training script we'll be using requires some specific packages. More recent versions of PyTorch include these packages; however, older versions do not. If you have to work with an older version of PyTorch, you might need to install `TensorboardX` (see the hidden code cell below). "
      ]
    },
    {
      "cell_type": "code",
      "metadata": {
        "id": "I-9ucC94J8Oa"
      },
      "source": [
        "# collapse-hide \n",
        "\n",
        "# line 69 of `run_squad.py` script shows why you might need to install \n",
        "# tensorboardX if you have an older version of torch\n",
        "try:\n",
        "    from torch.utils.tensorboard import SummaryWriter\n",
        "except ImportError:\n",
        "    from tensorboardX import SummaryWriter"
      ],
      "execution_count": null,
      "outputs": []
    },
    {
      "cell_type": "code",
      "metadata": {
        "id": "QqjgkYveYTff"
      },
      "source": [
        "import json\n",
        "!pip install tqdm\n",
        "from tqdm import tqdm\n",
        "json_open = open('/content/data/squad/dev-v2.0.json', 'r')\n",
        "json_load = json.load(json_open)\n",
        "!pip install googletrans\n",
        "from googletrans import Translator\n",
        "translator = Translator()\n",
        "\n",
        "\"\"\"\n",
        "for line in lines:\n",
        "    translated = translator.translate(line, dest=\"ja\");\n",
        "    print(line) # English\n",
        "    print(translated.text) # Japanese\n",
        "    print()\n",
        "\n",
        "\n",
        "#保存\n",
        "with open(\"/content/data/squad/train-v2.0_ja.json\", mode=\"w\") as json_load:\n",
        "    d = json.dumps(d)\n",
        "    f.write(d)\n",
        "\"\"\""
      ],
      "execution_count": null,
      "outputs": []
    },
    {
      "cell_type": "markdown",
      "metadata": {
        "id": "VSFwYaIpoMYs"
      },
      "source": [
        "## paragraph(問題文)を日本語化\n"
      ]
    },
    {
      "cell_type": "code",
      "metadata": {
        "id": "KIgNZDG1iVa_",
        "outputId": "7d739d6b-9bb3-453b-e185-04befaa38bcf",
        "colab": {
          "base_uri": "https://localhost:8080/"
        }
      },
      "source": [
        "for i in tqdm(range(len(json_load['data']))):\n",
        "    for j in range(len(json_load['data'][i][\"paragraphs\"])):\n",
        "        json_load['data'][i][\"paragraphs\"][j][\"context\"]=translator.translate(json_load['data'][i][\"paragraphs\"][j][\"context\"],dest=\"ja\").text"
      ],
      "execution_count": null,
      "outputs": [
        {
          "output_type": "stream",
          "text": [
            " 11%|█▏        | 4/35 [00:47<05:44, 11.11s/it]"
          ],
          "name": "stderr"
        }
      ]
    },
    {
      "cell_type": "code",
      "metadata": {
        "id": "siEiYL3YB_bG"
      },
      "source": [
        "for i in range(len(json_load['data'])):\n",
        "    for j in range(len(json_load['data'][i][\"paragraphs\"])):\n",
        "        json_load['data'][i][\"paragraphs\"][j][\"context\"]=translator.translate(json_load['data'][i][\"paragraphs\"][j][\"context\"],dest=\"ja\").text"
      ],
      "execution_count": null,
      "outputs": []
    },
    {
      "cell_type": "code",
      "metadata": {
        "id": "jpVn1gfwE3lV"
      },
      "source": [
        ""
      ],
      "execution_count": null,
      "outputs": []
    },
    {
      "cell_type": "markdown",
      "metadata": {
        "id": "DNgJj0sfst01"
      },
      "source": [
        "## Questionを日本語化"
      ]
    },
    {
      "cell_type": "code",
      "metadata": {
        "id": "8Vi3SA9OJ8Ol",
        "outputId": "6103dfe4-6d7a-403b-c482-c358e8dc761f",
        "colab": {
          "base_uri": "https://localhost:8080/"
        }
      },
      "source": [
        "# set path with magic\n",
        "%env DATA_DIR=./data/squad \n",
        "\n",
        "# download the data\n",
        "def download_squad(version=1):\n",
        "    if version == 1:\n",
        "        !wget -P $DATA_DIR https://rajpurkar.github.io/SQuAD-explorer/dataset/train-v1.1.json\n",
        "        !wget -P $DATA_DIR https://rajpurkar.github.io/SQuAD-explorer/dataset/dev-v1.1.json\n",
        "    else:\n",
        "        !wget -P $DATA_DIR https://rajpurkar.github.io/SQuAD-explorer/dataset/train-v2.0.json\n",
        "        !wget -P $DATA_DIR https://rajpurkar.github.io/SQuAD-explorer/dataset/dev-v2.0.json\n",
        "            \n",
        "download_squad(version=2)"
      ],
      "execution_count": null,
      "outputs": [
        {
          "output_type": "stream",
          "text": [
            "env: DATA_DIR=./data/squad\n",
            "--2020-11-06 10:02:35--  https://rajpurkar.github.io/SQuAD-explorer/dataset/train-v2.0.json\n",
            "Resolving rajpurkar.github.io (rajpurkar.github.io)... 185.199.108.153, 185.199.109.153, 185.199.110.153, ...\n",
            "Connecting to rajpurkar.github.io (rajpurkar.github.io)|185.199.108.153|:443... connected.\n",
            "HTTP request sent, awaiting response... 200 OK\n",
            "Length: 42123633 (40M) [application/json]\n",
            "Saving to: ‘./data/squad/train-v2.0.json.1’\n",
            "\n",
            "train-v2.0.json.1   100%[===================>]  40.17M   105MB/s    in 0.4s    \n",
            "\n",
            "2020-11-06 10:02:36 (105 MB/s) - ‘./data/squad/train-v2.0.json.1’ saved [42123633/42123633]\n",
            "\n",
            "--2020-11-06 10:02:36--  https://rajpurkar.github.io/SQuAD-explorer/dataset/dev-v2.0.json\n",
            "Resolving rajpurkar.github.io (rajpurkar.github.io)... 185.199.108.153, 185.199.109.153, 185.199.110.153, ...\n",
            "Connecting to rajpurkar.github.io (rajpurkar.github.io)|185.199.108.153|:443... connected.\n",
            "HTTP request sent, awaiting response... 200 OK\n",
            "Length: 4370528 (4.2M) [application/json]\n",
            "Saving to: ‘./data/squad/dev-v2.0.json.1’\n",
            "\n",
            "dev-v2.0.json.1     100%[===================>]   4.17M  --.-KB/s    in 0.1s    \n",
            "\n",
            "2020-11-06 10:02:36 (39.9 MB/s) - ‘./data/squad/dev-v2.0.json.1’ saved [4370528/4370528]\n",
            "\n"
          ],
          "name": "stdout"
        }
      ]
    },
    {
      "cell_type": "code",
      "metadata": {
        "id": "fjzddQrar0W8",
        "outputId": "8d3f292c-e0de-4c06-eaa6-d8ed250d8c1f",
        "colab": {
          "base_uri": "https://localhost:8080/",
          "height": 232
        }
      },
      "source": [
        "for i in range(len(json_load['data'])):\n",
        "    for j in range(len(json_load['data'][i][\"paragraphs\"])):\n",
        "        json_load['data'][i][\"paragraphs\"][j][\"context\"]=translator.translate(json_load['data'][i][\"paragraphs\"][j][\"context\"],dest=\"ja\").text"
      ],
      "execution_count": null,
      "outputs": [
        {
          "output_type": "error",
          "ename": "NameError",
          "evalue": "ignored",
          "traceback": [
            "\u001b[0;31m---------------------------------------------------------------------------\u001b[0m",
            "\u001b[0;31mNameError\u001b[0m                                 Traceback (most recent call last)",
            "\u001b[0;32m<ipython-input-4-bc70a644383e>\u001b[0m in \u001b[0;36m<module>\u001b[0;34m()\u001b[0m\n\u001b[0;32m----> 1\u001b[0;31m \u001b[0;32mfor\u001b[0m \u001b[0mi\u001b[0m \u001b[0;32min\u001b[0m \u001b[0mrange\u001b[0m\u001b[0;34m(\u001b[0m\u001b[0mlen\u001b[0m\u001b[0;34m(\u001b[0m\u001b[0mjson_load\u001b[0m\u001b[0;34m[\u001b[0m\u001b[0;34m'data'\u001b[0m\u001b[0;34m]\u001b[0m\u001b[0;34m)\u001b[0m\u001b[0;34m)\u001b[0m\u001b[0;34m:\u001b[0m\u001b[0;34m\u001b[0m\u001b[0;34m\u001b[0m\u001b[0m\n\u001b[0m\u001b[1;32m      2\u001b[0m     \u001b[0;32mfor\u001b[0m \u001b[0mj\u001b[0m \u001b[0;32min\u001b[0m \u001b[0mrange\u001b[0m\u001b[0;34m(\u001b[0m\u001b[0mlen\u001b[0m\u001b[0;34m(\u001b[0m\u001b[0mjson_load\u001b[0m\u001b[0;34m[\u001b[0m\u001b[0;34m'data'\u001b[0m\u001b[0;34m]\u001b[0m\u001b[0;34m[\u001b[0m\u001b[0mi\u001b[0m\u001b[0;34m]\u001b[0m\u001b[0;34m[\u001b[0m\u001b[0;34m\"paragraphs\"\u001b[0m\u001b[0;34m]\u001b[0m\u001b[0;34m)\u001b[0m\u001b[0;34m)\u001b[0m\u001b[0;34m:\u001b[0m\u001b[0;34m\u001b[0m\u001b[0;34m\u001b[0m\u001b[0m\n\u001b[1;32m      3\u001b[0m         \u001b[0mjson_load\u001b[0m\u001b[0;34m[\u001b[0m\u001b[0;34m'data'\u001b[0m\u001b[0;34m]\u001b[0m\u001b[0;34m[\u001b[0m\u001b[0mi\u001b[0m\u001b[0;34m]\u001b[0m\u001b[0;34m[\u001b[0m\u001b[0;34m\"paragraphs\"\u001b[0m\u001b[0;34m]\u001b[0m\u001b[0;34m[\u001b[0m\u001b[0mj\u001b[0m\u001b[0;34m]\u001b[0m\u001b[0;34m[\u001b[0m\u001b[0;34m\"context\"\u001b[0m\u001b[0;34m]\u001b[0m\u001b[0;34m=\u001b[0m\u001b[0mtranslator\u001b[0m\u001b[0;34m.\u001b[0m\u001b[0mtranslate\u001b[0m\u001b[0;34m(\u001b[0m\u001b[0mjson_load\u001b[0m\u001b[0;34m[\u001b[0m\u001b[0;34m'data'\u001b[0m\u001b[0;34m]\u001b[0m\u001b[0;34m[\u001b[0m\u001b[0mi\u001b[0m\u001b[0;34m]\u001b[0m\u001b[0;34m[\u001b[0m\u001b[0;34m\"paragraphs\"\u001b[0m\u001b[0;34m]\u001b[0m\u001b[0;34m[\u001b[0m\u001b[0mj\u001b[0m\u001b[0;34m]\u001b[0m\u001b[0;34m[\u001b[0m\u001b[0;34m\"context\"\u001b[0m\u001b[0;34m]\u001b[0m\u001b[0;34m,\u001b[0m\u001b[0mdest\u001b[0m\u001b[0;34m=\u001b[0m\u001b[0;34m\"ja\"\u001b[0m\u001b[0;34m)\u001b[0m\u001b[0;34m.\u001b[0m\u001b[0mtext\u001b[0m\u001b[0;34m\u001b[0m\u001b[0;34m\u001b[0m\u001b[0m\n",
            "\u001b[0;31mNameError\u001b[0m: name 'json_load' is not defined"
          ]
        }
      ]
    },
    {
      "cell_type": "code",
      "metadata": {
        "id": "HDoFlxMdpi5G",
        "outputId": "12b11a42-2ba5-4b81-ef77-2ceb86235954",
        "colab": {
          "base_uri": "https://localhost:8080/"
        }
      },
      "source": [
        "json_load['data'][i][\"paragraphs\"][j]['qas']"
      ],
      "execution_count": null,
      "outputs": [
        {
          "output_type": "execute_result",
          "data": {
            "text/plain": [
              "[{'answers': [{'answer_start': 82, 'text': 'kilogram-force'},\n",
              "   {'answer_start': 4, 'text': 'pound-force'},\n",
              "   {'answer_start': 82, 'text': 'kilogram-force (kgf)'},\n",
              "   {'answer_start': 82, 'text': 'kilogram-force'},\n",
              "   {'answer_start': 78, 'text': 'the kilogram-force ('}],\n",
              "  'id': '5737aafd1c456719005744fb',\n",
              "  'is_impossible': False,\n",
              "  'question': 'What is the metric term less used than the Newton?'},\n",
              " {'answers': [{'answer_start': 114, 'text': 'kilopond'},\n",
              "   {'answer_start': 114, 'text': 'kilopond'},\n",
              "   {'answer_start': 114, 'text': 'kilopond'},\n",
              "   {'answer_start': 114, 'text': 'kilopond'},\n",
              "   {'answer_start': 114, 'text': 'kilopond'}],\n",
              "  'id': '5737aafd1c456719005744fc',\n",
              "  'is_impossible': False,\n",
              "  'question': 'What is the kilogram-force sometimes reffered to as?'},\n",
              " {'answers': [{'answer_start': 274, 'text': 'slug'},\n",
              "   {'answer_start': 267, 'text': 'metric slug'},\n",
              "   {'answer_start': 267, 'text': 'metric slug'},\n",
              "   {'answer_start': 267, 'text': 'metric slug'},\n",
              "   {'answer_start': 263, 'text': 'the metric slug'}],\n",
              "  'id': '5737aafd1c456719005744fd',\n",
              "  'is_impossible': False,\n",
              "  'question': 'What is a very seldom used unit of mass in the metric system?'},\n",
              " {'answers': [{'answer_start': 712, 'text': 'kip'},\n",
              "   {'answer_start': 712, 'text': 'kip'},\n",
              "   {'answer_start': 712, 'text': 'kip'},\n",
              "   {'answer_start': 712, 'text': 'kip'},\n",
              "   {'answer_start': 712, 'text': 'kip'}],\n",
              "  'id': '5737aafd1c456719005744fe',\n",
              "  'is_impossible': False,\n",
              "  'question': 'What seldom used term of a unit of force equal to 1000 pound s of force?'},\n",
              " {'answers': [{'answer_start': 665, 'text': 'sthène'},\n",
              "   {'answer_start': 665, 'text': 'sthène'},\n",
              "   {'answer_start': 665, 'text': 'sthène'},\n",
              "   {'answer_start': 665, 'text': 'sthène'},\n",
              "   {'answer_start': 665, 'text': 'sthène'}],\n",
              "  'id': '5737aafd1c456719005744ff',\n",
              "  'is_impossible': False,\n",
              "  'question': 'What is the seldom used force unit equal to one thousand newtons?'},\n",
              " {'answers': [],\n",
              "  'id': '5ad28ad0d7d075001a4299cc',\n",
              "  'is_impossible': True,\n",
              "  'plausible_answers': [{'answer_start': 4, 'text': 'pound-force'}],\n",
              "  'question': 'What does not have a metric counterpart?'},\n",
              " {'answers': [],\n",
              "  'id': '5ad28ad0d7d075001a4299cd',\n",
              "  'is_impossible': True,\n",
              "  'plausible_answers': [{'answer_start': 82, 'text': 'kilogram-force'}],\n",
              "  'question': 'What is the force exerted by standard gravity on one ton of mass?'},\n",
              " {'answers': [],\n",
              "  'id': '5ad28ad0d7d075001a4299ce',\n",
              "  'is_impossible': True,\n",
              "  'plausible_answers': [{'answer_start': 195, 'text': 'kilogram-force'}],\n",
              "  'question': 'What force leads to a commonly used unit of mass?'},\n",
              " {'answers': [],\n",
              "  'id': '5ad28ad0d7d075001a4299cf',\n",
              "  'is_impossible': True,\n",
              "  'plausible_answers': [{'answer_start': 383, 'text': 'kilogram-force'}],\n",
              "  'question': 'What force is part of the modern SI system?'}]"
            ]
          },
          "metadata": {
            "tags": []
          },
          "execution_count": 82
        }
      ]
    },
    {
      "cell_type": "code",
      "metadata": {
        "id": "_qaet6keslV2"
      },
      "source": [
        ""
      ],
      "execution_count": null,
      "outputs": []
    },
    {
      "cell_type": "code",
      "metadata": {
        "id": "IkkkXUOZln28"
      },
      "source": [
        ""
      ],
      "execution_count": null,
      "outputs": []
    },
    {
      "cell_type": "code",
      "metadata": {
        "id": "ByAWtYdJjxQP"
      },
      "source": [
        "\"\"\"\n",
        "for line in lines:\n",
        "    translated = translator.translate(line, dest=\"ja\");\n",
        "    print(line) # English\n",
        "    print(translated.text) # Japanese\n",
        "    print()\n",
        "\n",
        "\n",
        "#保存\n",
        "with open(\"/content/data/squad/train-v2.0_ja.json\", mode=\"w\") as json_load:\n",
        "    d = json.dumps(d)\n",
        "    f.write(d)\n",
        "\"\"\""
      ],
      "execution_count": null,
      "outputs": []
    },
    {
      "cell_type": "markdown",
      "metadata": {
        "id": "Hedhc00oJ8Of"
      },
      "source": [
        "Conversely, if you're working in Colab, you can run the cell below. "
      ]
    },
    {
      "cell_type": "code",
      "metadata": {
        "id": "AemXZWpEJ8Og",
        "outputId": "800b9987-6971-475b-a5d4-a733f25c7934",
        "colab": {
          "base_uri": "https://localhost:8080/"
        }
      },
      "source": [
        "!pip install torch  torchvision -f https://download.pytorch.org/whl/torch_stable.html\n",
        "!pip install transformers\n",
        "!pip install wikipedia"
      ],
      "execution_count": null,
      "outputs": [
        {
          "output_type": "stream",
          "text": [
            "Looking in links: https://download.pytorch.org/whl/torch_stable.html\n",
            "Requirement already satisfied: torch in /usr/local/lib/python3.6/dist-packages (1.7.0+cu101)\n",
            "Requirement already satisfied: torchvision in /usr/local/lib/python3.6/dist-packages (0.8.1+cu101)\n",
            "Requirement already satisfied: dataclasses in /usr/local/lib/python3.6/dist-packages (from torch) (0.7)\n",
            "Requirement already satisfied: future in /usr/local/lib/python3.6/dist-packages (from torch) (0.16.0)\n",
            "Requirement already satisfied: numpy in /usr/local/lib/python3.6/dist-packages (from torch) (1.18.5)\n",
            "Requirement already satisfied: typing-extensions in /usr/local/lib/python3.6/dist-packages (from torch) (3.7.4.3)\n",
            "Requirement already satisfied: pillow>=4.1.1 in /usr/local/lib/python3.6/dist-packages (from torchvision) (7.0.0)\n",
            "Collecting transformers\n",
            "\u001b[?25l  Downloading https://files.pythonhosted.org/packages/2c/4e/4f1ede0fd7a36278844a277f8d53c21f88f37f3754abf76a5d6224f76d4a/transformers-3.4.0-py3-none-any.whl (1.3MB)\n",
            "\u001b[K     |████████████████████████████████| 1.3MB 9.8MB/s \n",
            "\u001b[?25hRequirement already satisfied: packaging in /usr/local/lib/python3.6/dist-packages (from transformers) (20.4)\n",
            "Collecting sentencepiece!=0.1.92\n",
            "\u001b[?25l  Downloading https://files.pythonhosted.org/packages/e5/2d/6d4ca4bef9a67070fa1cac508606328329152b1df10bdf31fb6e4e727894/sentencepiece-0.1.94-cp36-cp36m-manylinux2014_x86_64.whl (1.1MB)\n",
            "\u001b[K     |████████████████████████████████| 1.1MB 17.1MB/s \n",
            "\u001b[?25hRequirement already satisfied: regex!=2019.12.17 in /usr/local/lib/python3.6/dist-packages (from transformers) (2019.12.20)\n",
            "Collecting sacremoses\n",
            "\u001b[?25l  Downloading https://files.pythonhosted.org/packages/7d/34/09d19aff26edcc8eb2a01bed8e98f13a1537005d31e95233fd48216eed10/sacremoses-0.0.43.tar.gz (883kB)\n",
            "\u001b[K     |████████████████████████████████| 890kB 56.9MB/s \n",
            "\u001b[?25hRequirement already satisfied: tqdm>=4.27 in /usr/local/lib/python3.6/dist-packages (from transformers) (4.41.1)\n",
            "Collecting tokenizers==0.9.2\n",
            "\u001b[?25l  Downloading https://files.pythonhosted.org/packages/7c/a5/78be1a55b2ac8d6a956f0a211d372726e2b1dd2666bb537fea9b03abd62c/tokenizers-0.9.2-cp36-cp36m-manylinux1_x86_64.whl (2.9MB)\n",
            "\u001b[K     |████████████████████████████████| 2.9MB 59.9MB/s \n",
            "\u001b[?25hRequirement already satisfied: requests in /usr/local/lib/python3.6/dist-packages (from transformers) (2.23.0)\n",
            "Requirement already satisfied: numpy in /usr/local/lib/python3.6/dist-packages (from transformers) (1.18.5)\n",
            "Requirement already satisfied: protobuf in /usr/local/lib/python3.6/dist-packages (from transformers) (3.12.4)\n",
            "Requirement already satisfied: filelock in /usr/local/lib/python3.6/dist-packages (from transformers) (3.0.12)\n",
            "Requirement already satisfied: dataclasses; python_version < \"3.7\" in /usr/local/lib/python3.6/dist-packages (from transformers) (0.7)\n",
            "Requirement already satisfied: pyparsing>=2.0.2 in /usr/local/lib/python3.6/dist-packages (from packaging->transformers) (2.4.7)\n",
            "Requirement already satisfied: six in /usr/local/lib/python3.6/dist-packages (from packaging->transformers) (1.15.0)\n",
            "Requirement already satisfied: click in /usr/local/lib/python3.6/dist-packages (from sacremoses->transformers) (7.1.2)\n",
            "Requirement already satisfied: joblib in /usr/local/lib/python3.6/dist-packages (from sacremoses->transformers) (0.17.0)\n",
            "Requirement already satisfied: certifi>=2017.4.17 in /usr/local/lib/python3.6/dist-packages (from requests->transformers) (2020.6.20)\n",
            "Requirement already satisfied: chardet<4,>=3.0.2 in /usr/local/lib/python3.6/dist-packages (from requests->transformers) (3.0.4)\n",
            "Requirement already satisfied: idna<3,>=2.5 in /usr/local/lib/python3.6/dist-packages (from requests->transformers) (2.10)\n",
            "Requirement already satisfied: urllib3!=1.25.0,!=1.25.1,<1.26,>=1.21.1 in /usr/local/lib/python3.6/dist-packages (from requests->transformers) (1.24.3)\n",
            "Requirement already satisfied: setuptools in /usr/local/lib/python3.6/dist-packages (from protobuf->transformers) (50.3.2)\n",
            "Building wheels for collected packages: sacremoses\n",
            "  Building wheel for sacremoses (setup.py) ... \u001b[?25l\u001b[?25hdone\n",
            "  Created wheel for sacremoses: filename=sacremoses-0.0.43-cp36-none-any.whl size=893257 sha256=0fdc2fbdb75735bd59ba95d16bf94b1df5a136c286d41ae829c00463ebc8d61c\n",
            "  Stored in directory: /root/.cache/pip/wheels/29/3c/fd/7ce5c3f0666dab31a50123635e6fb5e19ceb42ce38d4e58f45\n",
            "Successfully built sacremoses\n",
            "Installing collected packages: sentencepiece, sacremoses, tokenizers, transformers\n",
            "Successfully installed sacremoses-0.0.43 sentencepiece-0.1.94 tokenizers-0.9.2 transformers-3.4.0\n",
            "Collecting wikipedia\n",
            "  Downloading https://files.pythonhosted.org/packages/67/35/25e68fbc99e672127cc6fbb14b8ec1ba3dfef035bf1e4c90f78f24a80b7d/wikipedia-1.4.0.tar.gz\n",
            "Requirement already satisfied: beautifulsoup4 in /usr/local/lib/python3.6/dist-packages (from wikipedia) (4.6.3)\n",
            "Requirement already satisfied: requests<3.0.0,>=2.0.0 in /usr/local/lib/python3.6/dist-packages (from wikipedia) (2.23.0)\n",
            "Requirement already satisfied: chardet<4,>=3.0.2 in /usr/local/lib/python3.6/dist-packages (from requests<3.0.0,>=2.0.0->wikipedia) (3.0.4)\n",
            "Requirement already satisfied: urllib3!=1.25.0,!=1.25.1,<1.26,>=1.21.1 in /usr/local/lib/python3.6/dist-packages (from requests<3.0.0,>=2.0.0->wikipedia) (1.24.3)\n",
            "Requirement already satisfied: certifi>=2017.4.17 in /usr/local/lib/python3.6/dist-packages (from requests<3.0.0,>=2.0.0->wikipedia) (2020.6.20)\n",
            "Requirement already satisfied: idna<3,>=2.5 in /usr/local/lib/python3.6/dist-packages (from requests<3.0.0,>=2.0.0->wikipedia) (2.10)\n",
            "Building wheels for collected packages: wikipedia\n",
            "  Building wheel for wikipedia (setup.py) ... \u001b[?25l\u001b[?25hdone\n",
            "  Created wheel for wikipedia: filename=wikipedia-1.4.0-cp36-none-any.whl size=11686 sha256=60713532a682fb0d79e64d5d699dbe1b30dda0f5d28bc455f42b0a888f7607c9\n",
            "  Stored in directory: /root/.cache/pip/wheels/87/2a/18/4e471fd96d12114d16fe4a446d00c3b38fb9efcb744bd31f4a\n",
            "Successfully built wikipedia\n",
            "Installing collected packages: wikipedia\n",
            "Successfully installed wikipedia-1.4.0\n"
          ],
          "name": "stdout"
        }
      ]
    },
    {
      "cell_type": "markdown",
      "metadata": {
        "id": "B0C1ZkiuJ8Ok"
      },
      "source": [
        "# Hugging Face Transformers\n",
        "The [Hugging Face Transformers](https://huggingface.co/transformers/#) package provides state-of-the-art general-purpose architectures for natural language understanding and natural language generation. They host dozens of pre-trained models operating in over 100 languages that you can use right out of the box. All of these models come with deep interoperability between PyTorch and Tensorflow 2.0, which means you can move a model from TF2.0 to PyTorch and back again with just a line or two of code!\n",
        "\n",
        "\n",
        "If you're new to Hugging Face, we strongly recommend working through the HF [Quickstart guide](https://huggingface.co/transformers/quickstart.html) as well as their excellent [Transformer Notebooks](https://huggingface.co/transformers/notebooks.html) (we did!), as we won't cover that material in this notebook. We'll be using [`AutoClasses`](https://huggingface.co/transformers/model_doc/auto.html), which serve as a wrapper around pretty much any of the base Transformer classes."
      ]
    },
    {
      "cell_type": "markdown",
      "metadata": {
        "id": "YV5bGuAqJ8Ok"
      },
      "source": [
        "## Fine-tuning a Transformer model for Question Answering\n",
        "\n",
        "To train a Transformer for QA with Hugging Face, we'll need\n",
        "1. to pick a specific model architecture,\n",
        "2. a QA dataset, and\n",
        "3. the training script.\n",
        "\n",
        "With these three things in hand we'll then walk through the fine-tuning process. \n",
        "\n",
        "### 1. Pick a Model\n",
        "Not every Transformer architecture lends itself naturally to the task of question answering. For example, GPT does not do QA; similarly BERT does not do machine translation.  HF identifies the following model types for the QA task: \n",
        "\n",
        "- BERT\n",
        "- distilBERT \n",
        "- ALBERT\n",
        "- RoBERTa\n",
        "- XLNet\n",
        "- XLM\n",
        "- FlauBERT\n",
        "\n",
        "\n",
        "We'll stick with the now-classic BERT model in this notebook, but feel free to try out some others (we will - and we'll let you know when we do). Next up: a training set. \n",
        "\n",
        "\n",
        "### 2. QA dataset: SQuAD \n",
        "One of the most canonical datasets for QA is the Stanford Question Answering Dataset, or SQuAD, which comes in two flavors: SQuAD 1.1 and SQuAD 2.0. These reading comprehension datasets consist of questions posed on a set of Wikipedia articles, where the answer to every question is a segment (or span) of the corresponding passage. In SQuAD 1.1, all questions have an answer in the corresponding passage. SQuAD 2.0 steps up the difficulty by including questions that cannot be answered by the provided passage. \n",
        "\n",
        "The following code will download the specified version of SQuAD. "
      ]
    },
    {
      "cell_type": "markdown",
      "metadata": {
        "id": "qHkYxVPUJ8Oq"
      },
      "source": [
        "### 3. Fine-tuning script\n",
        "\n",
        "We've chosen a model and we've got some data. Time to train!\n",
        "\n",
        "All the standard models that HF supports have been pre-trained, which means they've all been fed massive unsupervised training sets in order to learn basic language modeling. In order to perform well at specific tasks (like question answering), they must be trained further -- fine-tuned -- on specific datasets and tasks.\n",
        "\n",
        "\n",
        "HF helpfully provides a script that fine-tunes a Transformer model on one of the SQuAD datasets, called `run_squad.py`. You can grab the script [here](https://github.com/huggingface/transformers/blob/master/examples/question-answering/run_squad.py) or run the cell below. "
      ]
    },
    {
      "cell_type": "code",
      "metadata": {
        "id": "kQLbf5ksJ8Oq",
        "outputId": "5a9f5db2-e27f-469b-f8a1-71b1614a384d",
        "colab": {
          "base_uri": "https://localhost:8080/"
        }
      },
      "source": [
        "# download the run_squad.py training script\n",
        "!curl -L -O https://raw.githubusercontent.com/huggingface/transformers/master/examples/question-answering/run_squad.py"
      ],
      "execution_count": null,
      "outputs": [
        {
          "output_type": "stream",
          "text": [
            "  % Total    % Received % Xferd  Average Speed   Time    Time     Time  Current\n",
            "                                 Dload  Upload   Total   Spent    Left  Speed\n",
            "100 34008  100 34008    0     0  86096      0 --:--:-- --:--:-- --:--:-- 85878\n"
          ],
          "name": "stdout"
        }
      ]
    },
    {
      "cell_type": "markdown",
      "metadata": {
        "id": "_ITuEQz2J8Ot"
      },
      "source": [
        "This script takes care of all the hard work that goes into fine-tuning a model and, as such, it's pretty complicated. It hosts no fewer than 45 arguments, providing an impressive amount of flexibility and utility for those who do a lot of training. We'll leave the details of this script for another day, and focus instead on the basic command to fine-tune BERT on SQuAD 1.1 or 2.0. \n",
        "\n",
        "Below are the most important arguments for the `run_squad.py` fine-tuning script."
      ]
    },
    {
      "cell_type": "code",
      "metadata": {
        "id": "2aLgtAieJ8Ou"
      },
      "source": [
        "# fine-tuning your own model for QA using HF's `run_squad.py`\n",
        "# turn flags on and off according to the model you're training\n",
        "\n",
        "cmd = [\n",
        "    'python', \n",
        "#    '-m torch.distributed.launch --nproc_per_node 2', # use this to perform distributed training over multiple GPUs\n",
        "    'run_squad.py', \n",
        "    \n",
        "    '--model_type', 'bert',                            # model type (one of the list under \"Pick a Model\" above)\n",
        "    \n",
        "    '--model_name_or_path', 'bert-base-uncased',       # specific model name of the given model type (shown, a list is here: https://huggingface.co/transformers/pretrained_models.html) \n",
        "                                                       # on first execution this initiates a download of pre-trained model weights;\n",
        "                                                       # can also be a local path to a directory with model weights\n",
        "    \n",
        "    '--output_dir', './models/bert/bbu_squad2',        # directory for model checkpoints and predictions\n",
        "    \n",
        "#    '--overwrite_output_dir',                         # use when adding output to a directory that is non-empty --\n",
        "                                                       # for instance, when training crashes midway through and you need to restart it\n",
        "    \n",
        "    '--do_train',                                      # execute the training method \n",
        "    \n",
        "    '--train_file', '/content/data/squad/train-v2.0.json',       # provide the training data\n",
        "    \n",
        "    '--version_2_with_negative',                       # ** MUST use this flag if training on SQuAD 2.0! DO NOT use if training on SQuAD 1.1\n",
        "    \n",
        "    '--do_lower_case',                                 # ** set this flag if using an uncased model; don't use for Cased Models\n",
        "    \n",
        "    '--do_eval',                                       # execute the evaluation method on the dev set -- note: \n",
        "                                                       # if coupled with --do_train, evaluation runs after fine-tuning \n",
        "    \n",
        "    '--predict_file', '/content/data/squad/dev-v2.0.json',       # provide evaluation data (dev set)\n",
        "    \n",
        "    '--eval_all_checkpoints',                          # evaluate the model on the dev set at each checkpoint\n",
        "    \n",
        "    '--per_gpu_eval_batch_size', '12',                 # evaluation batch size for each gpu\n",
        "    \n",
        "    '--per_gpu_train_batch_size', '12',                # training batch size for each gpu\n",
        "    \n",
        "    '--save_steps', '5000',                            # how often checkpoints (complete model snapshot) are saved \n",
        "    \n",
        "    '--threads', '8',                                  # num of CPU threads to use for converting SQuAD examples to model features\n",
        "    \n",
        "    # --- Model and Feature Hyperparameters --- \n",
        "    '--num_train_epochs', '3',                         # number of training epochs - usually 2-3 for SQuAD \n",
        "    \n",
        "    '--learning_rate', '3e-5',                         # learning rate for the default optimizer (Adam in this case)\n",
        "    \n",
        "    '--max_seq_length', '384',                         # maximum length allowed for the full input sequence \n",
        "    \n",
        "    '--doc_stride', '128'                              # used for long documents that must be chunked into multiple features -- \n",
        "                                                       # this \"sliding window\" controls the amount of stride between chunks\n",
        "]"
      ],
      "execution_count": null,
      "outputs": []
    },
    {
      "cell_type": "markdown",
      "metadata": {
        "id": "_UUqH_Q8J8Ox"
      },
      "source": [
        "Here's what to expect when executing `run_squad.py` for the first time: \n",
        "\n",
        "1. Pre-trained model weights for the specified model type (i.e., `bert-base-uncased`) are downloaded.\n",
        "2. SQuAD training examples are converted into features (takes 15-30 minutes depending on dataset size and number of threads).\n",
        "3. Training features are saved to a cache file (so that you don't have to do this again *for this model type*).\n",
        "4. If `--do_train`, training commences for as many epochs as you specify, saving the model weights every `--save_steps` steps until training finishes. These checkpoints are saved in `[--output_dir]/checkpoint-[step number]` subdirectories.\n",
        "5. The final model weights and peripheral files are saved to `--output_dir`.\n",
        "6. If `--do_eval`, SQuAD dev examples are converted into features.\n",
        "7. Dev features are also saved to a cache file.\n",
        "8. Evaluation commences and outputs a dizzying assortment of performance scores.\n",
        "\n",
        "\n",
        "### Time to train!\n",
        "But first, a note on compute requirements. We don't recommend fine-tuning a Transformer model unless you're rocking at least one GPU and a considerable amount of RAM. For context, our GPU is several years old (GeForce GTX TITAN X), and while it's not nearly as fast as the Tesla V100 (the current Cadillac of GPUs), it gets the job done. Fine-tuning `bert-base-uncased` takes about 1.75 hours _per epoch_. Additionally, our workhorse machine has 32GB CPU and 12GB GPU memory, which is sufficient for data processing and training most models on either of the SQuAD datasets. \n",
        "\n",
        "The following cells demonstrate two ways to fine-tune: on the command line and in a Colab notebook."
      ]
    },
    {
      "cell_type": "markdown",
      "metadata": {
        "id": "XnCfPqKCJ8Oz"
      },
      "source": [
        "#### Training on the command line\n",
        "We saved the following as a shell script (`run_squad.sh`) and ran on the command line (`$ source run_squad.sh`) of our workhorse GPU machine. Shell scripts help prevent numerous mistakes and mis-keys when typing args to a command line, especially for complex scripts like this. They also allow you to keep track of which arguments were used last (though, as we'll see below, the `run_squad.py` script has a solution for that). We actually kept two shell scripts -- one explicitly for training and another for evaluation."
      ]
    },
    {
      "cell_type": "markdown",
      "metadata": {
        "id": "YylyKTLdJ8Oz"
      },
      "source": [
        "```bash\n",
        "#!/bin/sh\n",
        "export DATA_DIR=./data/squad \n",
        "export MODEL_DIR=./models\n",
        "python run_squad.py  \\\n",
        "    --model_type bert   \\\n",
        "    --model_name_or_path bert-base-uncased  \\\n",
        "    --output_dir models/bert/ \\\n",
        "    --data_dir data/squad   \\\n",
        "    --overwrite_output_dir \\\n",
        "    --overwrite_cache \\\n",
        "    --do_train  \\\n",
        "    --train_file train-v2.0.json   \\\n",
        "    --version_2_with_negative \\\n",
        "    --do_lower_case  \\\n",
        "    --do_eval   \\\n",
        "    --predict_file dev-v2.0.json   \\\n",
        "    --per_gpu_train_batch_size 2   \\\n",
        "    --learning_rate 3e-5   \\\n",
        "    --num_train_epochs 2.0   \\\n",
        "    --max_seq_length 384   \\\n",
        "    --doc_stride 128   \\\n",
        "    --threads 10   \\\n",
        "    --save_steps 5000  \n",
        "```"
      ]
    },
    {
      "cell_type": "markdown",
      "metadata": {
        "id": "WvnnJ28MJ8O0"
      },
      "source": [
        "#### Training in Colab\n",
        "Alternatively, you can execute training in the cell as shown below. We note that standard Colab environments only provide 12GB of RAM. Converting the SQuAD dataset to features is memory intensive and may cause the basic Colab environment to fail silently. If you have a Colab instance with additional memory capacity (16GB+), this cell should execute fully.  "
      ]
    },
    {
      "cell_type": "code",
      "metadata": {
        "id": "Ap1o7wKDJ8O1"
      },
      "source": [
        "!python run_squad.py  \\\n",
        "    --model_type bert   \\\n",
        "    --model_name_or_path bert-base-uncased  \\\n",
        "    --output_dir models/bert/ \\\n",
        "    --data_dir data/squad   \\\n",
        "    --overwrite_output_dir \\\n",
        "    --overwrite_cache \\\n",
        "    --do_train  \\\n",
        "    --train_file train-v2.0.json   \\\n",
        "    --version_2_with_negative \\\n",
        "    --do_lower_case  \\\n",
        "    --do_eval   \\\n",
        "    --predict_file dev-v2.0.json   \\\n",
        "    --per_gpu_train_b-atch_size 2   \\\n",
        "    --learning_rate 3e-5   \\\n",
        "    --num_train_epochs 2.0   \\\n",
        "    --max_seq_length 384   \\\n",
        "    --doc_stride 128   \\\n",
        "    --threads 10   \\\n",
        "    --save_steps 5000 "
      ],
      "execution_count": null,
      "outputs": []
    },
    {
      "cell_type": "code",
      "metadata": {
        "scrolled": true,
        "id": "iRmd-dFjJ8O5"
      },
      "source": [
        "# hide\n",
        "\n",
        "# Execute the training from a standard Jupyter Notebook \n",
        "from subprocess import PIPE, STDOUT, Popen\n",
        "\n",
        "# Live output from run_squad.py is through stderr (rather than stdout). \n",
        "# The following command runs the process and ports stderr to stdout\n",
        "p = Popen(cmd,\n",
        "          stdout=PIPE,\n",
        "          stderr=STDOUT)\n",
        "\n",
        "# Default behavior when using bash cells in jupyter is that you won't see the live output in the cell \n",
        "# -- you can only see output once the entire process has finished and then you get it all at once. \n",
        "# This is less than ideal when training models that can take hours or days of compute time! \n",
        "\n",
        "# This command combined with the above allows you to see the live output feed in the notebook, \n",
        "# though it's a bit asynchronous.\n",
        "for line in iter(p.stdout.readline, b''):\n",
        "    print(\">>> \" + line.decode().rstrip())"
      ],
      "execution_count": null,
      "outputs": []
    },
    {
      "cell_type": "markdown",
      "metadata": {
        "id": "WbYh24rCJ8O8"
      },
      "source": [
        "### Training Output\n",
        "\n",
        "Successful completion of the `run_squad.py` yields a slew of output, which can be found in the `--output_dir` directory specified above. There you'll find...   \n",
        "\n",
        "Files for the model's tokenizer:\n",
        "* `tokenizer_config.json`\n",
        "* `vocab.txt`\n",
        "* `special_tokens_map.json`\n",
        "\n",
        "Files for the model itself:\n",
        "* `pytorch_model.bin`: these are the actual model weights (this file can be several GB for some models)\n",
        "* `config.json`: details of the model architecture\n",
        "\n",
        "Binary representation of the command line arguments used to train this model (so you'll never forget which arguments you used!)\n",
        "* `training_args.bin`\n",
        "\n",
        "And if you included `--do_eval`, you'll also see these files:\n",
        "* `predictions_.json`: the official best answer for each example\n",
        "* `nbest_predictions_.json`: the top n best answers for each example\n",
        "\n",
        "\n",
        "Providing the path to this directory to `AutoModel` or `AutoModelForQuestionAnswering` will load your fine-tuned model for use."
      ]
    },
    {
      "cell_type": "code",
      "metadata": {
        "id": "3z18ZUZ2J8O9"
      },
      "source": [
        "from transformers import AutoTokenizer, AutoModelForQuestionAnswering\n",
        "\n",
        "# Load the fine-tuned model\n",
        "tokenizer = AutoTokenizer.from_pretrained(\"./models/bert/bbu_squad2\")\n",
        "model = AutoModelForQuestionAnswering.from_pretrained(\"./models/bert/bbu_squad2\")"
      ],
      "execution_count": null,
      "outputs": []
    },
    {
      "cell_type": "markdown",
      "metadata": {
        "id": "0udYlib9J8PA"
      },
      "source": [
        "## Using a pre-fine-tuned model from the Hugging Face repository\n",
        "If you don't have access to GPUs or don't have the time to fiddle and train models, you're in luck! Hugging Face is more than a collection of slick Transformer classes -- it also hosts [a repository](https://huggingface.co/models) for pre-trained and fine-tuned models contributed from the wide community of NLP practitioners. Searching for \"squad\" brings up at least 55 models. \n",
        "\n",
        "![](https://github.com/fastforwardlabs/ff14_blog/blob/master/_notebooks/my_icons/HF_repo.png?raw=1)\n",
        "\n",
        "\n",
        "Each of these links provides explicit code for using the model, and, in some cases, information on how it was trained and what results were achieved. Let's load one of these pre-fine-tuned models."
      ]
    },
    {
      "cell_type": "code",
      "metadata": {
        "id": "bAXu3eJRJ8PA"
      },
      "source": [
        "\"import torch\n",
        "\"from transformers import AutoTokenizer, AutoModelForQuestionAnswering\n",
        "\n",
        "# executing these commands for the first time initiates a download of the \n",
        "# model weights to ~/.cache/torch/transformers/\n",
        "#tokenizer = AutoTokenizer.from_pretrained(\"deepset/bert-base-cased-squad2\") \n",
        "#model = AutoModelForQuestionAnswering.from_pretrained(\"deepset/bert-base-cased-squad2\")"
      ],
      "execution_count": null,
      "outputs": []
    },
    {
      "cell_type": "markdown",
      "metadata": {
        "id": "bwFkh5OCJ8PD"
      },
      "source": [
        "## Let's try our model!\n",
        "\n",
        "Whether you fine-tuned your own or used a pre-fine-tuned model, it's time to play with it! There are three steps to QA: \n",
        "1. tokenize the input\n",
        "2. obtain model scores\n",
        "3. get the answer span\n",
        "\n",
        "These steps are discussed in detail in the HF [Transformer Notebooks](https://huggingface.co/transformers/notebooks.html). "
      ]
    },
    {
      "cell_type": "code",
      "metadata": {
        "id": "TQEzAri2J8PD",
        "outputId": "0f38c55d-79c5-440a-c7fa-7051064a6aec"
      },
      "source": [
        "question = \"Who ruled Macedonia\"\n",
        "\n",
        "context = \"\"\"Macedonia was an ancient kingdom on the periphery of Archaic and Classical Greece, \n",
        "and later the dominant state of Hellenistic Greece. The kingdom was founded and initially ruled \n",
        "by the Argead dynasty, followed by the Antipatrid and Antigonid dynasties. Home to the ancient \n",
        "Macedonians, it originated on the northeastern part of the Greek peninsula. Before the 4th \n",
        "century BC, it was a small kingdom outside of the area dominated by the city-states of Athens, \n",
        "Sparta and Thebes, and briefly subordinate to Achaemenid Persia.\"\"\"\n",
        "\n",
        "\n",
        "# 1. TOKENIZE THE INPUT\n",
        "# note: if you don't include return_tensors='pt' you'll get a list of lists which is easier for \n",
        "# exploration but you cannot feed that into a model. \n",
        "inputs = tokenizer.encode_plus(question, context, return_tensors=\"pt\") \n",
        "\n",
        "# 2. OBTAIN MODEL SCORES\n",
        "# the AutoModelForQuestionAnswering class includes a span predictor on top of the model. \n",
        "# the model returns answer start and end scores for each word in the text\n",
        "answer_start_scores, answer_end_scores = model(**inputs)\n",
        "answer_start = torch.argmax(answer_start_scores)  # get the most likely beginning of answer with the argmax of the score\n",
        "answer_end = torch.argmax(answer_end_scores) + 1  # get the most likely end of answer with the argmax of the score\n",
        "\n",
        "# 3. GET THE ANSWER SPAN\n",
        "# once we have the most likely start and end tokens, we grab all the tokens between them\n",
        "# and convert tokens back to words!\n",
        "tokenizer.convert_tokens_to_string(tokenizer.convert_ids_to_tokens(inputs[\"input_ids\"][0][answer_start:answer_end]))"
      ],
      "execution_count": null,
      "outputs": [
        {
          "output_type": "execute_result",
          "data": {
            "text/plain": [
              "'the Argead dynasty'"
            ]
          },
          "metadata": {
            "tags": []
          },
          "execution_count": 6
        }
      ]
    },
    {
      "cell_type": "markdown",
      "metadata": {
        "id": "V_lU8NaqJ8PG"
      },
      "source": [
        "# QA on Wikipedia pages\n",
        "We tried our model on a question paired with a short passage, but what if we want to retrieve an answer from a longer document? A typical Wikipedia page is much longer than the example above, and we need to do a bit of massaging before we can use our model on longer contexts. \n",
        "\n",
        "Let's start by pulling up a Wikipedia page. "
      ]
    },
    {
      "cell_type": "code",
      "metadata": {
        "scrolled": true,
        "id": "8NjxLa2QJ8PH",
        "outputId": "ecfd720a-5ac1-4cdc-bc75-d9189dea0af4"
      },
      "source": [
        "import wikipedia as wiki\n",
        "import pprint as pp\n",
        "\n",
        "question = 'What is the wingspan of an albatross?'\n",
        "\n",
        "results = wiki.search(question)\n",
        "print(\"Wikipedia search results for our question:\\n\")\n",
        "pp.pprint(results)\n",
        "\n",
        "page = wiki.page(results[0])\n",
        "text = page.content\n",
        "print(f\"\\nThe {results[0]} Wikipedia article contains {len(text)} characters.\")"
      ],
      "execution_count": null,
      "outputs": [
        {
          "output_type": "stream",
          "text": [
            "Wikipedia search results for our question:\n",
            "\n",
            "['Albatross',\n",
            " 'List of largest birds',\n",
            " 'Black-browed albatross',\n",
            " 'Argentavis',\n",
            " 'Pterosaur',\n",
            " 'Mollymawk',\n",
            " 'List of birds by flight speed',\n",
            " 'Largest body part',\n",
            " 'Pelican',\n",
            " 'Aspect ratio (aeronautics)']\n",
            "\n",
            "The Albatross Wikipedia article contains 38200 characters.\n"
          ],
          "name": "stdout"
        }
      ]
    },
    {
      "cell_type": "code",
      "metadata": {
        "id": "VBF-CtbvJ8PK",
        "outputId": "8ff9b7c1-4ed4-4603-a1ab-d607202b3587"
      },
      "source": [
        "inputs = tokenizer.encode_plus(question, text, return_tensors='pt')\n",
        "print(f\"This translates into {len(inputs['input_ids'][0])} tokens.\")"
      ],
      "execution_count": null,
      "outputs": [
        {
          "output_type": "stream",
          "text": [
            "Token indices sequence length is longer than the specified maximum sequence length for this model (10 > 512). Running this sequence through the model will result in indexing errors\n"
          ],
          "name": "stderr"
        },
        {
          "output_type": "stream",
          "text": [
            "This translates into 8824 tokens.\n"
          ],
          "name": "stdout"
        }
      ]
    },
    {
      "cell_type": "markdown",
      "metadata": {
        "id": "avRWFjyNJ8PN"
      },
      "source": [
        "The tokenizer takes the input as text and returns tokens. In general, tokenizers convert words or pieces of words into a model-ingestible format. The specific tokens and format are dependent on the type of model. For example, BERT tokenizes words differently from RoBERTa, so be sure to always use the associated tokenizer appropriate for your model.\n",
        "\n",
        "In this case, the tokenizer converts our input text into 8824 tokens, but this far exceeds the maximum number of tokens that can be fed to the model at one time. Most BERT-esque models can only accept 512 tokens at once, thus the (somewhat confusing) warning above (how is 10 > 512?). This means we'll have to split our input into chunks and each chunk must not exceed 512 tokens in total. \n",
        "\n",
        "When working with Question Answering, it's crucial that each chunk follows this format:\n",
        "\n",
        "[CLS] question tokens [SEP] context tokens [SEP]\n",
        "\n",
        "This means that, for each segment of a Wikipedia article, we must prepend the original question, followed by the next \"chunk\" of article tokens.\n",
        "\n"
      ]
    },
    {
      "cell_type": "code",
      "metadata": {
        "scrolled": false,
        "id": "cVqg4VdwJ8PO",
        "outputId": "407a59f7-3393-4d86-a47f-54196b0b2ad8"
      },
      "source": [
        "# time to chunk!\n",
        "from collections import OrderedDict\n",
        "\n",
        "# identify question tokens (token_type_ids = 0)\n",
        "qmask = inputs['token_type_ids'].lt(1)\n",
        "qt = torch.masked_select(inputs['input_ids'], qmask)\n",
        "print(f\"The question consists of {qt.size()[0]} tokens.\")\n",
        "\n",
        "chunk_size = model.config.max_position_embeddings - qt.size()[0] - 1 # the \"-1\" accounts for\n",
        "# having to add a [SEP] token to the end of each chunk\n",
        "print(f\"Each chunk will contain {chunk_size - 2} tokens of the Wikipedia article.\")\n",
        "\n",
        "# create a dict of dicts; each sub-dict mimics the structure of pre-chunked model input\n",
        "chunked_input = OrderedDict()\n",
        "for k,v in inputs.items():\n",
        "    q = torch.masked_select(v, qmask)\n",
        "    c = torch.masked_select(v, ~qmask)\n",
        "    chunks = torch.split(c, chunk_size)\n",
        "\n",
        "    for i, chunk in enumerate(chunks):\n",
        "        if i not in chunked_input:\n",
        "            chunked_input[i] = {}\n",
        "\n",
        "        thing = torch.cat((q, chunk))\n",
        "        if i != len(chunks)-1:\n",
        "            if k == 'input_ids':\n",
        "                thing = torch.cat((thing, torch.tensor([102])))\n",
        "            else:\n",
        "                thing = torch.cat((thing, torch.tensor([1])))\n",
        "\n",
        "        chunked_input[i][k] = torch.unsqueeze(thing, dim=0)"
      ],
      "execution_count": null,
      "outputs": [
        {
          "output_type": "stream",
          "text": [
            "The question consists of 12 tokens.\n",
            "Each chunk will contain 497 tokens of the Wikipedia article.\n"
          ],
          "name": "stdout"
        }
      ]
    },
    {
      "cell_type": "code",
      "metadata": {
        "id": "HhNG48feJ8PQ",
        "outputId": "a59f150f-462c-4c7f-ac82-e5dc3557c08d"
      },
      "source": [
        "for i in range(len(chunked_input.keys())):\n",
        "    print(f\"Number of tokens in chunk {i}: {len(chunked_input[i]['input_ids'].tolist()[0])}\")"
      ],
      "execution_count": null,
      "outputs": [
        {
          "output_type": "stream",
          "text": [
            "Number of tokens in chunk 0: 512\n",
            "Number of tokens in chunk 1: 512\n",
            "Number of tokens in chunk 2: 512\n",
            "Number of tokens in chunk 3: 512\n",
            "Number of tokens in chunk 4: 512\n",
            "Number of tokens in chunk 5: 512\n",
            "Number of tokens in chunk 6: 512\n",
            "Number of tokens in chunk 7: 512\n",
            "Number of tokens in chunk 8: 512\n",
            "Number of tokens in chunk 9: 512\n",
            "Number of tokens in chunk 10: 512\n",
            "Number of tokens in chunk 11: 512\n",
            "Number of tokens in chunk 12: 512\n",
            "Number of tokens in chunk 13: 512\n",
            "Number of tokens in chunk 14: 512\n",
            "Number of tokens in chunk 15: 512\n",
            "Number of tokens in chunk 16: 512\n",
            "Number of tokens in chunk 17: 341\n"
          ],
          "name": "stdout"
        }
      ]
    },
    {
      "cell_type": "markdown",
      "metadata": {
        "id": "_16eZT2iJ8PU"
      },
      "source": [
        "Each of these chunks (except for the last one) has the following structure: \n",
        "\n",
        "[CLS], 12 question tokens, [SEP], 497 tokens of the Wikipedia article, [SEP] token = 512 tokens\n",
        "\n",
        "Each of these chunks can now be fed to the model without causing indexing errors. We'll get an \"answer\" for each chunk; however, not all answers are useful, since not every segment of a Wikipedia article is informative for our question. The model will return the [CLS] token when it determines that the context does not contain an answer to the question. "
      ]
    },
    {
      "cell_type": "code",
      "metadata": {
        "id": "uxsDpsbfJ8PV",
        "outputId": "a103e6ba-3928-444e-efea-1ac022bdaaa5"
      },
      "source": [
        "def convert_ids_to_string(tokenizer, input_ids):\n",
        "    return tokenizer.convert_tokens_to_string(tokenizer.convert_ids_to_tokens(input_ids))\n",
        "\n",
        "answer = ''\n",
        "\n",
        "# now we iterate over our chunks, looking for the best answer from each chunk\n",
        "for _, chunk in chunked_input.items():\n",
        "    answer_start_scores, answer_end_scores = model(**chunk)\n",
        "\n",
        "    answer_start = torch.argmax(answer_start_scores)\n",
        "    answer_end = torch.argmax(answer_end_scores) + 1\n",
        "\n",
        "    ans = convert_ids_to_string(tokenizer, chunk['input_ids'][0][answer_start:answer_end])\n",
        "    \n",
        "    # if the ans == [CLS] then the model did not find a real answer in this chunk\n",
        "    if ans != '[CLS]':\n",
        "        answer += ans + \" / \"\n",
        "        \n",
        "print(answer)"
      ],
      "execution_count": null,
      "outputs": [
        {
          "output_type": "stream",
          "text": [
            "3 . 7 m / \n"
          ],
          "name": "stdout"
        }
      ]
    },
    {
      "cell_type": "markdown",
      "metadata": {
        "id": "2Gujs0-DJ8Pc"
      },
      "source": [
        "# Putting it all together\n",
        "\n",
        "Let's recap. We've essentially built a simple IR-based QA system! We're using `wikipedia`'s search engine to return a list of candidate documents that we then feed into our document reader (in this case, BERT fine-tuned on SQuAD 2.0). Let's make our code easier to read and more self-contained by packaging the document reader into a class."
      ]
    },
    {
      "cell_type": "code",
      "metadata": {
        "id": "VgXGzWLTJ8Pd"
      },
      "source": [
        "from transformers import AutoTokenizer, AutoModelForQuestionAnswering\n",
        "\n",
        "\n",
        "class DocumentReader:\n",
        "    def __init__(self, pretrained_model_name_or_path='bert-large-uncased'):\n",
        "        self.READER_PATH = pretrained_model_name_or_path\n",
        "        self.tokenizer = AutoTokenizer.from_pretrained(self.READER_PATH)\n",
        "        self.model = AutoModelForQuestionAnswering.from_pretrained(self.READER_PATH)\n",
        "        self.max_len = self.model.config.max_position_embeddings\n",
        "        self.chunked = False\n",
        "\n",
        "    def tokenize(self, question, text):\n",
        "        self.inputs = self.tokenizer.encode_plus(question, text, add_special_tokens=True, return_tensors=\"pt\")\n",
        "        self.input_ids = self.inputs[\"input_ids\"].tolist()[0]\n",
        "\n",
        "        if len(self.input_ids) > self.max_len:\n",
        "            self.inputs = self.chunkify()\n",
        "            self.chunked = True\n",
        "\n",
        "    def chunkify(self):\n",
        "        \"\"\" \n",
        "        Break up a long article into chunks that fit within the max token\n",
        "        requirement for that Transformer model. \n",
        "\n",
        "        Calls to BERT / RoBERTa / ALBERT require the following format:\n",
        "        [CLS] question tokens [SEP] context tokens [SEP].\n",
        "        \"\"\"\n",
        "\n",
        "        # create question mask based on token_type_ids\n",
        "        # value is 0 for question tokens, 1 for context tokens\n",
        "        qmask = self.inputs['token_type_ids'].lt(1)\n",
        "        qt = torch.masked_select(self.inputs['input_ids'], qmask)\n",
        "        chunk_size = self.max_len - qt.size()[0] - 1 # the \"-1\" accounts for\n",
        "        # having to add an ending [SEP] token to the end\n",
        "\n",
        "        # create a dict of dicts; each sub-dict mimics the structure of pre-chunked model input\n",
        "        chunked_input = OrderedDict()\n",
        "        for k,v in self.inputs.items():\n",
        "            q = torch.masked_select(v, qmask)\n",
        "            c = torch.masked_select(v, ~qmask)\n",
        "            chunks = torch.split(c, chunk_size)\n",
        "            \n",
        "            for i, chunk in enumerate(chunks):\n",
        "                if i not in chunked_input:\n",
        "                    chunked_input[i] = {}\n",
        "\n",
        "                thing = torch.cat((q, chunk))\n",
        "                if i != len(chunks)-1:\n",
        "                    if k == 'input_ids':\n",
        "                        thing = torch.cat((thing, torch.tensor([102])))\n",
        "                    else:\n",
        "                        thing = torch.cat((thing, torch.tensor([1])))\n",
        "\n",
        "                chunked_input[i][k] = torch.unsqueeze(thing, dim=0)\n",
        "        return chunked_input\n",
        "\n",
        "    def get_answer(self):\n",
        "        if self.chunked:\n",
        "            answer = ''\n",
        "            for k, chunk in self.inputs.items():\n",
        "                answer_start_scores, answer_end_scores = self.model(**chunk)\n",
        "\n",
        "                answer_start = torch.argmax(answer_start_scores)\n",
        "                answer_end = torch.argmax(answer_end_scores) + 1\n",
        "\n",
        "                ans = self.convert_ids_to_string(chunk['input_ids'][0][answer_start:answer_end])\n",
        "                if ans != '[CLS]':\n",
        "                    answer += ans + \" / \"\n",
        "            return answer\n",
        "        else:\n",
        "            answer_start_scores, answer_end_scores = self.model(**self.inputs)\n",
        "\n",
        "            answer_start = torch.argmax(answer_start_scores)  # get the most likely beginning of answer with the argmax of the score\n",
        "            answer_end = torch.argmax(answer_end_scores) + 1  # get the most likely end of answer with the argmax of the score\n",
        "        \n",
        "            return self.convert_ids_to_string(self.inputs['input_ids'][0][\n",
        "                                              answer_start:answer_end])\n",
        "\n",
        "    def convert_ids_to_string(self, input_ids):\n",
        "        return self.tokenizer.convert_tokens_to_string(self.tokenizer.convert_ids_to_tokens(input_ids))"
      ],
      "execution_count": null,
      "outputs": []
    },
    {
      "cell_type": "markdown",
      "metadata": {
        "id": "LJNk2rZVJ8Pf"
      },
      "source": [
        "Below is our clean, fully working QA system! Feel free to add your own questions. "
      ]
    },
    {
      "cell_type": "code",
      "metadata": {
        "id": "H8U1p9NRJ8Pg"
      },
      "source": [
        "# collapse-hide \n",
        "\n",
        "# to make the following output more readable I'll turn off the token sequence length warning\n",
        "import logging\n",
        "logging.getLogger(\"transformers.tokenization_utils\").setLevel(logging.ERROR)"
      ],
      "execution_count": null,
      "outputs": []
    },
    {
      "cell_type": "code",
      "metadata": {
        "id": "jj4ZOgEoJ8Pi",
        "outputId": "18b7d51e-ea8e-4787-a3d1-f31bbc26990a"
      },
      "source": [
        "questions = [\n",
        "    'When was Barack Obama born?',\n",
        "    'Why is the sky blue?',\n",
        "    'How many sides does a pentagon have?'\n",
        "]\n",
        "\n",
        "reader = DocumentReader(\"deepset/bert-base-cased-squad2\") \n",
        "\n",
        "# if you trained your own model using the training cell earlier, you can access it with this:\n",
        "#reader = DocumentReader(\"./models/bert/bbu_squad2\")\n",
        "\n",
        "for question in questions:\n",
        "    print(f\"Question: {question}\")\n",
        "    results = wiki.search(question)\n",
        "\n",
        "    page = wiki.page(results[0])\n",
        "    print(f\"Top wiki result: {page}\")\n",
        "\n",
        "    text = page.content\n",
        "\n",
        "    reader.tokenize(question, text)\n",
        "    print(f\"Answer: {reader.get_answer()}\")\n",
        "    print()\n"
      ],
      "execution_count": null,
      "outputs": [
        {
          "output_type": "stream",
          "text": [
            "Question: When was Barack Obama born?\n",
            "Top wiki result: <WikipediaPage 'Barack Obama Sr.'>\n",
            "Answer: 18 June 1936 / February 2 , 1961 / \n",
            "\n",
            "Question: Why is the sky blue?\n",
            "Top wiki result: <WikipediaPage 'Diffuse sky radiation'>\n",
            "Answer: Rayleigh scattering / \n",
            "\n",
            "Question: How many sides does a pentagon have?\n",
            "Top wiki result: <WikipediaPage 'The Pentagon'>\n",
            "Answer: five / \n",
            "\n"
          ],
          "name": "stdout"
        }
      ]
    },
    {
      "cell_type": "markdown",
      "metadata": {
        "id": "s0_Kb0b-J8Pk"
      },
      "source": [
        "It got 2 out of 3 questions right!\n",
        "\n",
        "Notice that, at least for the current questions we've chosen, the QA system fails because of Wikipedia's default search engine, not because of BERT! It pulls up the wrong page for two of our questions: a page about Barack Obama Sr. instead of the former US President, and an article about the US's Department of Defense building \"The Pentagon\" instead of a page about geometry. In the latter case, we ended up with the correct answer by coincidence! This illustrates that any successful IR-based QA system requires a search engine (document retriever) as good as the document reader.\n"
      ]
    },
    {
      "cell_type": "markdown",
      "metadata": {
        "id": "_gVjinwNJ8Pl"
      },
      "source": [
        "# Wrapping Up\n",
        "\n",
        "There we have it! A working QA system on Wikipedia articles. This is great, but it's admittedly not very sophisticated. Furthermore, we've left a lot of questions unanswered:\n",
        "\n",
        "1. Why fine-tune on the SQuAD dataset and not something else? What other options are there? \n",
        "2. How good is BERT at answering questions? And how do we define \"good\"?\n",
        "3. Why BERT and not another Transformer model? \n",
        "4. Currently, our QA system can return an answer for each chunk of a Wiki article, but not all of those answers are correct -- How can we improve our `get_answer` method?\n",
        "5. Additionally, we're chunking a wiki article in such a way that we could be ending a chunk in the middle of a sentence -- Can we improve our `chunkify` method? \n",
        "\n",
        "\n",
        "Over the course of this project, we'll tackle these questions and more. By the end of this series we hope to demonstrate a snazzier QA model that incorporates everything we learn along the way. Stay tuned! "
      ]
    },
    {
      "cell_type": "code",
      "metadata": {
        "id": "l1v4ntQjJ8Pl"
      },
      "source": [
        ""
      ],
      "execution_count": null,
      "outputs": []
    }
  ]
}